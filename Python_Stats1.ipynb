{
  "nbformat": 4,
  "nbformat_minor": 0,
  "metadata": {
    "colab": {
      "name": "Python_Stats1.ipynb",
      "provenance": [],
      "collapsed_sections": [
        "OSo1jDs9nLgo",
        "iVAa4Lfnrcph",
        "3bHljZnutLZZ",
        "tFs3mIzv4-Qe",
        "hCDo_mr15BMh",
        "oIsc-gJP8lPR"
      ]
    },
    "kernelspec": {
      "name": "python3",
      "display_name": "Python 3"
    }
  },
  "cells": [
    {
      "cell_type": "markdown",
      "metadata": {
        "id": "OSo1jDs9nLgo",
        "colab_type": "text"
      },
      "source": [
        "# Exploratory Data Analysis (Visual)"
      ]
    },
    {
      "cell_type": "markdown",
      "metadata": {
        "id": "iVAa4Lfnrcph",
        "colab_type": "text"
      },
      "source": [
        "## Histograms"
      ]
    },
    {
      "cell_type": "code",
      "metadata": {
        "id": "wc_cxAT2lRgh",
        "colab_type": "code",
        "colab": {}
      },
      "source": [
        "df=spark.read.csv('2008_swing_states.csv',header=True)"
      ],
      "execution_count": 0,
      "outputs": []
    },
    {
      "cell_type": "code",
      "metadata": {
        "id": "KaGjDFYPneRA",
        "colab_type": "code",
        "colab": {}
      },
      "source": [
        "import seaborn as sns\n",
        "import matplotlib.pyplot as plt"
      ],
      "execution_count": 0,
      "outputs": []
    },
    {
      "cell_type": "code",
      "metadata": {
        "id": "1OZZIZw6nmMI",
        "colab_type": "code",
        "outputId": "aed8a4a6-4f72-480b-b0a6-a54504ac7a7f",
        "colab": {
          "base_uri": "https://localhost:8080/",
          "height": 167
        }
      },
      "source": [
        "df.show(2)"
      ],
      "execution_count": 0,
      "outputs": [
        {
          "output_type": "stream",
          "text": [
            "+-----+---------------+-----------+---------+---------+---------+\n",
            "|state|         county|total_votes|dem_votes|rep_votes|dem_share|\n",
            "+-----+---------------+-----------+---------+---------+---------+\n",
            "|   PA|    Erie County|     127691|    75775|    50351|    60.08|\n",
            "|   PA|Bradford County|      25787|    10306|    15057|    40.64|\n",
            "+-----+---------------+-----------+---------+---------+---------+\n",
            "only showing top 2 rows\n",
            "\n"
          ],
          "name": "stdout"
        }
      ]
    },
    {
      "cell_type": "code",
      "metadata": {
        "id": "GRHrE_5LnoJo",
        "colab_type": "code",
        "colab": {}
      },
      "source": [
        "pandas_df=df.toPandas()#pandas version of the dataframe"
      ],
      "execution_count": 0,
      "outputs": []
    },
    {
      "cell_type": "code",
      "metadata": {
        "id": "Kyd6JEmYoUwE",
        "colab_type": "code",
        "outputId": "bc673e7e-1ca3-4825-f631-2b8da9543b20",
        "colab": {
          "base_uri": "https://localhost:8080/"
        }
      },
      "source": [
        "pandas_df.head(2)"
      ],
      "execution_count": 0,
      "outputs": [
        {
          "output_type": "execute_result",
          "data": {
            "text/html": [
              "<div>\n",
              "<style scoped>\n",
              "    .dataframe tbody tr th:only-of-type {\n",
              "        vertical-align: middle;\n",
              "    }\n",
              "\n",
              "    .dataframe tbody tr th {\n",
              "        vertical-align: top;\n",
              "    }\n",
              "\n",
              "    .dataframe thead th {\n",
              "        text-align: right;\n",
              "    }\n",
              "</style>\n",
              "<table border=\"1\" class=\"dataframe\">\n",
              "  <thead>\n",
              "    <tr style=\"text-align: right;\">\n",
              "      <th></th>\n",
              "      <th>state</th>\n",
              "      <th>county</th>\n",
              "      <th>total_votes</th>\n",
              "      <th>dem_votes</th>\n",
              "      <th>rep_votes</th>\n",
              "      <th>dem_share</th>\n",
              "    </tr>\n",
              "  </thead>\n",
              "  <tbody>\n",
              "    <tr>\n",
              "      <th>0</th>\n",
              "      <td>PA</td>\n",
              "      <td>Erie County</td>\n",
              "      <td>127691</td>\n",
              "      <td>75775</td>\n",
              "      <td>50351</td>\n",
              "      <td>60.08</td>\n",
              "    </tr>\n",
              "    <tr>\n",
              "      <th>1</th>\n",
              "      <td>PA</td>\n",
              "      <td>Bradford County</td>\n",
              "      <td>25787</td>\n",
              "      <td>10306</td>\n",
              "      <td>15057</td>\n",
              "      <td>40.64</td>\n",
              "    </tr>\n",
              "  </tbody>\n",
              "</table>\n",
              "</div>"
            ],
            "text/plain": [
              "  state           county total_votes dem_votes rep_votes dem_share\n",
              "0    PA      Erie County      127691     75775     50351     60.08\n",
              "1    PA  Bradford County       25787     10306     15057     40.64"
            ]
          },
          "metadata": {
            "tags": []
          },
          "execution_count": 8
        }
      ]
    },
    {
      "cell_type": "code",
      "metadata": {
        "id": "H-mNXsIWo8qh",
        "colab_type": "code",
        "outputId": "8bffb200-f235-4285-b92e-5bfa193f33c3",
        "colab": {
          "base_uri": "https://localhost:8080/",
          "height": 320
        }
      },
      "source": [
        "import numpy as np\n",
        "#sns.set(style='whitegrid')\n",
        "sns.distplot(pandas_df.dem_share,bins=15)#square root rule for histogram bins\n",
        "plt.xlabel('Percentage of votes for Democrats')\n",
        "plt.ylabel('No. of Counties')\n",
        "plt.title('2008 Swing Democrats')"
      ],
      "execution_count": 0,
      "outputs": [
        {
          "output_type": "execute_result",
          "data": {
            "text/plain": [
              "Text(0.5, 1.0, '2008 Swing Democrats')"
            ]
          },
          "metadata": {
            "tags": []
          },
          "execution_count": 144
        },
        {
          "output_type": "display_data",
          "data": {
            "image/png": "[encoded data removed]",
            "text/plain": [
              "<Figure size 432x288 with 1 Axes>"
            ]
          },
          "metadata": {
            "tags": []
          }
        }
      ]
    },
    {
      "cell_type": "markdown",
      "metadata": {
        "id": "3bHljZnutLZZ",
        "colab_type": "text"
      },
      "source": [
        "## Empirical Cumulative Distribution Function"
      ]
    },
    {
      "cell_type": "code",
      "metadata": {
        "id": "MfGr54-JsktB",
        "colab_type": "code",
        "colab": {}
      },
      "source": [
        "import numpy as np\n",
        "x=np.sort(pandas_df['dem_share'])\n",
        "x2=np.sort(pandas_df['rep_share'])\n",
        "y=np.arange(1,len(x)+1)/len(x)#1 to n / n to get a scaling between 0 and 1"
      ],
      "execution_count": 0,
      "outputs": []
    },
    {
      "cell_type": "code",
      "metadata": {
        "id": "Rpu_BQk3uRpc",
        "colab_type": "code",
        "outputId": "4fca192d-954e-48d6-fdb8-c86809e401a6",
        "colab": {
          "base_uri": "https://localhost:8080/",
          "height": 358
        }
      },
      "source": [
        "plt.figure(figsize=(10,5))\n",
        "plt.plot(x,y,marker='.',linestyle='none')\n",
        "plt.plot(x2,y,marker='.',linestyle='none',color='red')\n",
        "plt.xlabel('percentage vote for Democrats vs Republicans')\n",
        "plt.ylabel('percentage of counties that voted')"
      ],
      "execution_count": 0,
      "outputs": [
        {
          "output_type": "execute_result",
          "data": {
            "text/plain": [
              "Text(0, 0.5, 'percentage of counties that voted')"
            ]
          },
          "metadata": {
            "tags": []
          },
          "execution_count": 150
        },
        {
          "output_type": "display_data",
          "data": {
            "image/png": "[encoded data removed]",
            "text/plain": [
              "<Figure size 720x360 with 1 Axes>"
            ]
          },
          "metadata": {
            "tags": []
          }
        }
      ]
    },
    {
      "cell_type": "markdown",
      "metadata": {
        "id": "WaxL_Hz-xs1Y",
        "colab_type": "text"
      },
      "source": [
        "# Exploratory Data Analysis (Quantitative)"
      ]
    },
    {
      "cell_type": "markdown",
      "metadata": {
        "id": "tFs3mIzv4-Qe",
        "colab_type": "text"
      },
      "source": [
        "## Mean"
      ]
    },
    {
      "cell_type": "code",
      "metadata": {
        "id": "tKiRbIYTxxSj",
        "colab_type": "code",
        "outputId": "2093b941-6d5f-452a-c70c-e2a67b4e90cb",
        "colab": {
          "base_uri": "https://localhost:8080/"
        }
      },
      "source": [
        "pandas_df.describe()"
      ],
      "execution_count": 0,
      "outputs": [
        {
          "output_type": "execute_result",
          "data": {
            "text/html": [
              "<div>\n",
              "<style scoped>\n",
              "    .dataframe tbody tr th:only-of-type {\n",
              "        vertical-align: middle;\n",
              "    }\n",
              "\n",
              "    .dataframe tbody tr th {\n",
              "        vertical-align: top;\n",
              "    }\n",
              "\n",
              "    .dataframe thead th {\n",
              "        text-align: right;\n",
              "    }\n",
              "</style>\n",
              "<table border=\"1\" class=\"dataframe\">\n",
              "  <thead>\n",
              "    <tr style=\"text-align: right;\">\n",
              "      <th></th>\n",
              "      <th>state</th>\n",
              "      <th>county</th>\n",
              "      <th>total_votes</th>\n",
              "      <th>dem_votes</th>\n",
              "      <th>rep_votes</th>\n",
              "      <th>dem_share</th>\n",
              "    </tr>\n",
              "  </thead>\n",
              "  <tbody>\n",
              "    <tr>\n",
              "      <th>count</th>\n",
              "      <td>222</td>\n",
              "      <td>222</td>\n",
              "      <td>222</td>\n",
              "      <td>222</td>\n",
              "      <td>222</td>\n",
              "      <td>222</td>\n",
              "    </tr>\n",
              "    <tr>\n",
              "      <th>unique</th>\n",
              "      <td>3</td>\n",
              "      <td>187</td>\n",
              "      <td>221</td>\n",
              "      <td>222</td>\n",
              "      <td>222</td>\n",
              "      <td>219</td>\n",
              "    </tr>\n",
              "    <tr>\n",
              "      <th>top</th>\n",
              "      <td>OH</td>\n",
              "      <td>Franklin County</td>\n",
              "      <td>18802</td>\n",
              "      <td>334709</td>\n",
              "      <td>40164</td>\n",
              "      <td>35.86</td>\n",
              "    </tr>\n",
              "    <tr>\n",
              "      <th>freq</th>\n",
              "      <td>88</td>\n",
              "      <td>3</td>\n",
              "      <td>2</td>\n",
              "      <td>1</td>\n",
              "      <td>1</td>\n",
              "      <td>2</td>\n",
              "    </tr>\n",
              "  </tbody>\n",
              "</table>\n",
              "</div>"
            ],
            "text/plain": [
              "       state           county total_votes dem_votes rep_votes dem_share\n",
              "count    222              222         222       222       222       222\n",
              "unique     3              187         221       222       222       219\n",
              "top       OH  Franklin County       18802    334709     40164     35.86\n",
              "freq      88                3           2         1         1         2"
            ]
          },
          "metadata": {
            "tags": []
          },
          "execution_count": 74
        }
      ]
    },
    {
      "cell_type": "code",
      "metadata": {
        "id": "C4WCmbKozWvG",
        "colab_type": "code",
        "outputId": "4e6f87e1-895f-4ab3-81a0-0cd3af2a9178",
        "colab": {
          "base_uri": "https://localhost:8080/",
          "height": 205
        }
      },
      "source": [
        "df.describe().show()"
      ],
      "execution_count": 0,
      "outputs": [
        {
          "output_type": "stream",
          "text": [
            "+-------+-----+------------+------------------+-----------------+-----------------+------------------+\n",
            "|summary|state|      county|       total_votes|        dem_votes|        rep_votes|         dem_share|\n",
            "+-------+-----+------------+------------------+-----------------+-----------------+------------------+\n",
            "|  count|  222|         222|               222|              222|              222|               222|\n",
            "|   mean| null|        null| 90424.51351351352|47214.28378378379|42236.56756756757| 43.76441441441444|\n",
            "| stddev| null|        null|142285.29065340292|88913.07704554172|56208.86248990848|10.712770294984136|\n",
            "|    min|   FL|Adams County|            100670|           102417|            10067|             17.06|\n",
            "|    max|   PA| York County|             98047|            99586|             9900|             83.56|\n",
            "+-------+-----+------------+------------------+-----------------+-----------------+------------------+\n",
            "\n"
          ],
          "name": "stdout"
        }
      ]
    },
    {
      "cell_type": "code",
      "metadata": {
        "id": "Dj7PlcvMztuv",
        "colab_type": "code",
        "outputId": "e371b208-c7ec-47cd-e25a-66b32659ea64",
        "colab": {
          "base_uri": "https://localhost:8080/",
          "height": 130
        }
      },
      "source": [
        "# mean value of total votes in pyspark dataframe\n",
        "import pyspark.sql.functions as F\n",
        "df.describe().select('summary','total_votes').where(F.col('summary')=='mean').show()"
      ],
      "execution_count": 0,
      "outputs": [
        {
          "output_type": "stream",
          "text": [
            "+-------+-----------------+\n",
            "|summary|      total_votes|\n",
            "+-------+-----------------+\n",
            "|   mean|90424.51351351352|\n",
            "+-------+-----------------+\n",
            "\n"
          ],
          "name": "stdout"
        }
      ]
    },
    {
      "cell_type": "markdown",
      "metadata": {
        "id": "hCDo_mr15BMh",
        "colab_type": "text"
      },
      "source": [
        "## Quantile"
      ]
    },
    {
      "cell_type": "code",
      "metadata": {
        "id": "lPEA_p_bzrE-",
        "colab_type": "code",
        "outputId": "5377abac-24b6-4f4b-f366-86639079c089",
        "colab": {
          "base_uri": "https://localhost:8080/",
          "height": 36
        }
      },
      "source": [
        "list(df.selectExpr(\"percentile(total_votes, 0.95)\").take(1)[0].asDict().items())[0][1]#percentile function in pyspark"
      ],
      "execution_count": 0,
      "outputs": [
        {
          "output_type": "execute_result",
          "data": {
            "text/plain": [
              "422086.0999999999"
            ]
          },
          "metadata": {
            "tags": []
          },
          "execution_count": 139
        }
      ]
    },
    {
      "cell_type": "code",
      "metadata": {
        "id": "UiqmDj6J3fEV",
        "colab_type": "code",
        "outputId": "6fac7f74-63a2-40ae-faf4-1dbea162f278",
        "colab": {
          "base_uri": "https://localhost:8080/",
          "height": 36
        }
      },
      "source": [
        "pandas_df.total_votes.apply(lambda x:int(x)).quantile(0.95)#percentile in pandas"
      ],
      "execution_count": 0,
      "outputs": [
        {
          "output_type": "execute_result",
          "data": {
            "text/plain": [
              "422086.0999999999"
            ]
          },
          "metadata": {
            "tags": []
          },
          "execution_count": 140
        }
      ]
    },
    {
      "cell_type": "code",
      "metadata": {
        "id": "OIBzJEMP6mjf",
        "colab_type": "code",
        "outputId": "31033907-827a-48b7-a65b-47472564e430",
        "colab": {
          "base_uri": "https://localhost:8080/"
        }
      },
      "source": [
        "pandas_df.head(1)"
      ],
      "execution_count": 0,
      "outputs": [
        {
          "output_type": "execute_result",
          "data": {
            "text/html": [
              "<div>\n",
              "<style scoped>\n",
              "    .dataframe tbody tr th:only-of-type {\n",
              "        vertical-align: middle;\n",
              "    }\n",
              "\n",
              "    .dataframe tbody tr th {\n",
              "        vertical-align: top;\n",
              "    }\n",
              "\n",
              "    .dataframe thead th {\n",
              "        text-align: right;\n",
              "    }\n",
              "</style>\n",
              "<table border=\"1\" class=\"dataframe\">\n",
              "  <thead>\n",
              "    <tr style=\"text-align: right;\">\n",
              "      <th></th>\n",
              "      <th>state</th>\n",
              "      <th>county</th>\n",
              "      <th>total_votes</th>\n",
              "      <th>dem_votes</th>\n",
              "      <th>rep_votes</th>\n",
              "      <th>dem_share</th>\n",
              "      <th>rep_share</th>\n",
              "    </tr>\n",
              "  </thead>\n",
              "  <tbody>\n",
              "    <tr>\n",
              "      <th>0</th>\n",
              "      <td>PA</td>\n",
              "      <td>Erie County</td>\n",
              "      <td>127691.0</td>\n",
              "      <td>75775.0</td>\n",
              "      <td>50351.0</td>\n",
              "      <td>60.08</td>\n",
              "      <td>39.92</td>\n",
              "    </tr>\n",
              "  </tbody>\n",
              "</table>\n",
              "</div>"
            ],
            "text/plain": [
              "  state       county  total_votes  dem_votes  rep_votes  dem_share  rep_share\n",
              "0    PA  Erie County     127691.0    75775.0    50351.0      60.08      39.92"
            ]
          },
          "metadata": {
            "tags": []
          },
          "execution_count": 151
        }
      ]
    },
    {
      "cell_type": "code",
      "metadata": {
        "id": "R6Ywq4Rn6wV0",
        "colab_type": "code",
        "colab": {}
      },
      "source": [
        "pandas_df.total_votes=pandas_df['total_votes'].apply(lambda x: float(x))\n",
        "pandas_df.dem_votes=pandas_df['dem_votes'].apply(lambda x: float(x))\n",
        "pandas_df.rep_votes=pandas_df['rep_votes'].apply(lambda x: float(x))\n",
        "pandas_df.dem_share=pandas_df['dem_share'].apply(lambda x: float(x))\n",
        "pandas_df['rep_share']=100-pandas_df.dem_share"
      ],
      "execution_count": 0,
      "outputs": []
    },
    {
      "cell_type": "code",
      "metadata": {
        "id": "yZxMP7kb7jm7",
        "colab_type": "code",
        "outputId": "93526bf7-7a60-439c-8b55-07b8316ef3ca",
        "colab": {
          "base_uri": "https://localhost:8080/",
          "height": 304
        }
      },
      "source": [
        "sns.boxplot(x='state',y='dem_share',data=pandas_df)"
      ],
      "execution_count": 0,
      "outputs": [
        {
          "output_type": "execute_result",
          "data": {
            "text/plain": [
              "<matplotlib.axes._subplots.AxesSubplot at 0x7faee9cceb38>"
            ]
          },
          "metadata": {
            "tags": []
          },
          "execution_count": 135
        },
        {
          "output_type": "display_data",
          "data": {
            "image/png": "[encoded data removed]",
            "text/plain": [
              "<Figure size 432x288 with 1 Axes>"
            ]
          },
          "metadata": {
            "tags": []
          }
        }
      ]
    },
    {
      "cell_type": "markdown",
      "metadata": {
        "id": "oIsc-gJP8lPR",
        "colab_type": "text"
      },
      "source": [
        "## Variance and Standard Deviation"
      ]
    },
    {
      "cell_type": "code",
      "metadata": {
        "id": "-5PDGHmZ__B_",
        "colab_type": "code",
        "outputId": "3e62418f-e9d1-4fb5-8e8e-942d72932904",
        "colab": {
          "base_uri": "https://localhost:8080/",
          "height": 73
        }
      },
      "source": [
        "for state in set(pandas_df.state):\n",
        "  variance=np.var(pandas_df[pandas_df.state==state].dem_share)\n",
        "  stddev=np.std(pandas_df[pandas_df.state==state].dem_share)\n",
        "  print(state,'Variance:',variance,'\\tStandard Deviation:',stddev)"
      ],
      "execution_count": 0,
      "outputs": [
        {
          "output_type": "stream",
          "text": [
            "OH Variance: 96.81207396694212 \tStandard Deviation: 9.83931267756758\n",
            "PA Variance: 94.66503492982848 \tStandard Deviation: 9.729595825615187\n",
            "FL Variance: 147.44278618846064 \tStandard Deviation: 12.142602117687158\n"
          ],
          "name": "stdout"
        }
      ]
    },
    {
      "cell_type": "markdown",
      "metadata": {
        "id": "VeDtDU9lB4NK",
        "colab_type": "text"
      },
      "source": [
        "## Covariance and the Pearson Correlation Coefficient"
      ]
    },
    {
      "cell_type": "code",
      "metadata": {
        "id": "BjlnJBhGCaZ4",
        "colab_type": "code",
        "outputId": "53c68c65-3389-4990-83b5-0b4e838ada1d",
        "colab": {
          "base_uri": "https://localhost:8080/",
          "height": 80
        }
      },
      "source": [
        "pandas_df.head(1)"
      ],
      "execution_count": 0,
      "outputs": [
        {
          "output_type": "execute_result",
          "data": {
            "text/html": [
              "<div>\n",
              "<style scoped>\n",
              "    .dataframe tbody tr th:only-of-type {\n",
              "        vertical-align: middle;\n",
              "    }\n",
              "\n",
              "    .dataframe tbody tr th {\n",
              "        vertical-align: top;\n",
              "    }\n",
              "\n",
              "    .dataframe thead th {\n",
              "        text-align: right;\n",
              "    }\n",
              "</style>\n",
              "<table border=\"1\" class=\"dataframe\">\n",
              "  <thead>\n",
              "    <tr style=\"text-align: right;\">\n",
              "      <th></th>\n",
              "      <th>state</th>\n",
              "      <th>county</th>\n",
              "      <th>total_votes</th>\n",
              "      <th>dem_votes</th>\n",
              "      <th>rep_votes</th>\n",
              "      <th>dem_share</th>\n",
              "      <th>rep_share</th>\n",
              "    </tr>\n",
              "  </thead>\n",
              "  <tbody>\n",
              "    <tr>\n",
              "      <th>0</th>\n",
              "      <td>PA</td>\n",
              "      <td>Erie County</td>\n",
              "      <td>127691.0</td>\n",
              "      <td>75775.0</td>\n",
              "      <td>50351.0</td>\n",
              "      <td>60.08</td>\n",
              "      <td>39.92</td>\n",
              "    </tr>\n",
              "  </tbody>\n",
              "</table>\n",
              "</div>"
            ],
            "text/plain": [
              "  state       county  total_votes  dem_votes  rep_votes  dem_share  rep_share\n",
              "0    PA  Erie County     127691.0    75775.0    50351.0      60.08      39.92"
            ]
          },
          "metadata": {
            "tags": []
          },
          "execution_count": 165
        }
      ]
    },
    {
      "cell_type": "code",
      "metadata": {
        "id": "YwyZQN6WC-sT",
        "colab_type": "code",
        "outputId": "7e39578d-04fe-49e0-9850-fa6be27f97d8",
        "colab": {
          "base_uri": "https://localhost:8080/",
          "height": 304
        }
      },
      "source": [
        "sns.scatterplot(pandas_df.total_votes,pandas_df.dem_share)\n",
        "plt.xlabel('Total Votes')\n",
        "plt.ylabel('Percentage of Votes for Democrats')"
      ],
      "execution_count": 0,
      "outputs": [
        {
          "output_type": "execute_result",
          "data": {
            "text/plain": [
              "Text(0, 0.5, 'Percentage of Votes for Democrats')"
            ]
          },
          "metadata": {
            "tags": []
          },
          "execution_count": 168
        },
        {
          "output_type": "display_data",
          "data": {
            "image/png": "[encoded data removed]",
            "text/plain": [
              "<Figure size 432x288 with 1 Axes>"
            ]
          },
          "metadata": {
            "tags": []
          }
        }
      ]
    },
    {
      "cell_type": "code",
      "metadata": {
        "id": "RNyEPj16N3IF",
        "colab_type": "code",
        "colab": {}
      },
      "source": [
        "x=np.array([1,2,3,4,5])\n",
        "y=x**2"
      ],
      "execution_count": 0,
      "outputs": []
    },
    {
      "cell_type": "code",
      "metadata": {
        "id": "HP_dPWPDPG8n",
        "colab_type": "code",
        "outputId": "f9255aae-639d-4963-c231-2804cb16bcd4",
        "colab": {
          "base_uri": "https://localhost:8080/",
          "height": 55
        }
      },
      "source": [
        "np.cov(x,y)#[0,0] is variance in x [1,1] is the variance in y and both [0,1] and [1,0] give us the covariance"
      ],
      "execution_count": 0,
      "outputs": [
        {
          "output_type": "execute_result",
          "data": {
            "text/plain": [
              "array([[ 2.5, 15. ],\n",
              "       [15. , 93.5]])"
            ]
          },
          "metadata": {
            "tags": []
          },
          "execution_count": 173
        }
      ]
    },
    {
      "cell_type": "code",
      "metadata": {
        "id": "8wUJnQcGPIsO",
        "colab_type": "code",
        "outputId": "055370b4-8a37-4461-c9da-9427e9e09564",
        "colab": {
          "base_uri": "https://localhost:8080/",
          "height": 55
        }
      },
      "source": [
        "np.corrcoef(x,y)# here [0,1] and [1,0] denote the correlation between x and y. Correlation can be thought of covariance scaled between -1 and 1"
      ],
      "execution_count": 0,
      "outputs": [
        {
          "output_type": "execute_result",
          "data": {
            "text/plain": [
              "array([[1.        , 0.98110491],\n",
              "       [0.98110491, 1.        ]])"
            ]
          },
          "metadata": {
            "tags": []
          },
          "execution_count": 175
        }
      ]
    },
    {
      "cell_type": "code",
      "metadata": {
        "id": "TidEKOqiPMnP",
        "colab_type": "code",
        "colab": {}
      },
      "source": [
        ""
      ],
      "execution_count": 0,
      "outputs": []
    },
    {
      "cell_type": "markdown",
      "metadata": {
        "id": "GLvbebnqQK6b",
        "colab_type": "text"
      },
      "source": [
        "# Probabalistic Logic - Discete Variables"
      ]
    },
    {
      "cell_type": "code",
      "metadata": {
        "id": "BZ3RG4rbQQCZ",
        "colab_type": "code",
        "colab": {}
      },
      "source": [
        "import numpy as np"
      ],
      "execution_count": 0,
      "outputs": []
    },
    {
      "cell_type": "markdown",
      "metadata": {
        "id": "4HntMpqaX7YT",
        "colab_type": "text"
      },
      "source": [
        "## Simulation 1 : Coin Toss"
      ]
    },
    {
      "cell_type": "code",
      "metadata": {
        "id": "eRSoc6atX_My",
        "colab_type": "code",
        "outputId": "204a60cc-0cce-4e1d-fe8b-5f8d17734e75",
        "colab": {
          "base_uri": "https://localhost:8080/",
          "height": 36
        }
      },
      "source": [
        "np.random.seed(666)#pseudo random number generator\n",
        "np.random.random()#randomly generates a number between 0 and 1. If less than 0.5 then tails else heads."
      ],
      "execution_count": 0,
      "outputs": [
        {
          "output_type": "execute_result",
          "data": {
            "text/plain": [
              "0.7004371218578347"
            ]
          },
          "metadata": {
            "tags": []
          },
          "execution_count": 180
        }
      ]
    },
    {
      "cell_type": "code",
      "metadata": {
        "id": "CpCwtn6EYIcA",
        "colab_type": "code",
        "colab": {}
      },
      "source": [
        "#this is called a bernoulli trial since the outcome is either true or false"
      ],
      "execution_count": 0,
      "outputs": []
    },
    {
      "cell_type": "code",
      "metadata": {
        "id": "o-Hop2GbYQyZ",
        "colab_type": "code",
        "outputId": "3f8bccfd-a023-4ba0-c4c1-7dfd56d8d553",
        "colab": {
          "base_uri": "https://localhost:8080/",
          "height": 36
        }
      },
      "source": [
        "random_numbers=np.random.random(size=4)\n",
        "heads=random_numbers>0.5\n",
        "heads"
      ],
      "execution_count": 0,
      "outputs": [
        {
          "output_type": "execute_result",
          "data": {
            "text/plain": [
              "array([ True, False,  True, False])"
            ]
          },
          "metadata": {
            "tags": []
          },
          "execution_count": 183
        }
      ]
    },
    {
      "cell_type": "code",
      "metadata": {
        "id": "hKY3z2CzYqBI",
        "colab_type": "code",
        "outputId": "ef712194-c69e-4dcc-e203-2649e9a7454e",
        "colab": {
          "base_uri": "https://localhost:8080/",
          "height": 36
        }
      },
      "source": [
        "head_counts=0\n",
        "for _ in range(1000):\n",
        "  trial=np.random.random(size=4)\n",
        "  result=np.sum(trial>0.5)\n",
        "  if result==4:\n",
        "    #print(trial>0.5)\n",
        "    head_counts+=1\n",
        "print(head_counts/1000)"
      ],
      "execution_count": 0,
      "outputs": [
        {
          "output_type": "stream",
          "text": [
            "0.067\n"
          ],
          "name": "stdout"
        }
      ]
    },
    {
      "cell_type": "code",
      "metadata": {
        "id": "LHjZx_rFaEN0",
        "colab_type": "code",
        "outputId": "7bbfb278-dd63-4107-8096-2b2fc546622e",
        "colab": {
          "base_uri": "https://localhost:8080/",
          "height": 36
        }
      },
      "source": [
        "#actual probability is 0.5**4\n",
        "print(0.5**4)#close enough"
      ],
      "execution_count": 0,
      "outputs": [
        {
          "output_type": "stream",
          "text": [
            "0.0625\n"
          ],
          "name": "stdout"
        }
      ]
    },
    {
      "cell_type": "code",
      "metadata": {
        "id": "4q7d4_eBacLc",
        "colab_type": "code",
        "colab": {}
      },
      "source": [
        "# for number of successes r, number of bernoulli trials n and a probability of success at p; the set of outcomes are BINOMIALLY DISTRIBUTED."
      ],
      "execution_count": 0,
      "outputs": []
    },
    {
      "cell_type": "code",
      "metadata": {
        "id": "GZ1MdVy7dG-l",
        "colab_type": "code",
        "outputId": "26735708-3e58-491e-b050-f12ab35926c0",
        "colab": {
          "base_uri": "https://localhost:8080/",
          "height": 36
        }
      },
      "source": [
        "np.random.binomial(4,0.5,size=10)# n is 4, p=0.5 and times experiment is repeated is size. Each number in the result tells us how many heads we got in each experiment."
      ],
      "execution_count": 0,
      "outputs": [
        {
          "output_type": "execute_result",
          "data": {
            "text/plain": [
              "array([1, 2, 3, 2, 3, 3, 3, 2, 2, 3])"
            ]
          },
          "metadata": {
            "tags": []
          },
          "execution_count": 198
        }
      ]
    },
    {
      "cell_type": "code",
      "metadata": {
        "id": "KXMbM2-gdUPC",
        "colab_type": "code",
        "outputId": "31ebd913-2e1c-4dc0-c328-76ade22be192",
        "colab": {
          "base_uri": "https://localhost:8080/",
          "height": 287
        }
      },
      "source": [
        "sns.distplot(np.random.binomial(4,0.5,size=10000))# this is what a binomial distribution looks like."
      ],
      "execution_count": 0,
      "outputs": [
        {
          "output_type": "execute_result",
          "data": {
            "text/plain": [
              "<matplotlib.axes._subplots.AxesSubplot at 0x7faee94c7b38>"
            ]
          },
          "metadata": {
            "tags": []
          },
          "execution_count": 206
        },
        {
          "output_type": "display_data",
          "data": {
            "image/png": "[encoded data removed]",
            "text/plain": [
              "<Figure size 432x288 with 1 Axes>"
            ]
          },
          "metadata": {
            "tags": []
          }
        }
      ]
    },
    {
      "cell_type": "code",
      "metadata": {
        "id": "lj1EonDCdkjG",
        "colab_type": "code",
        "colab": {}
      },
      "source": [
        "#the graph tells us that that getting 2 heads in a series of 4 consecutive coin tosses is most likely"
      ],
      "execution_count": 0,
      "outputs": []
    },
    {
      "cell_type": "code",
      "metadata": {
        "id": "yV9dsz4leF9T",
        "colab_type": "code",
        "colab": {}
      },
      "source": [
        "#Lets say that I'm playing russian roulette alone and the probability i'll get shot is 1/6 (1 bullet in a 6 shot gun)\n",
        "# every time I play, the revolver is spun ( I know those aren't the rules)."
      ],
      "execution_count": 0,
      "outputs": []
    },
    {
      "cell_type": "code",
      "metadata": {
        "id": "4iJvfX9Oe4dk",
        "colab_type": "code",
        "outputId": "a00490b9-bef3-4811-c47b-3b9a9bdd603a",
        "colab": {
          "base_uri": "https://localhost:8080/",
          "height": 287
        }
      },
      "source": [
        "sns.distplot(np.random.binomial(4,0.1666,size=1000000))# If I play 4 turns"
      ],
      "execution_count": 0,
      "outputs": [
        {
          "output_type": "execute_result",
          "data": {
            "text/plain": [
              "<matplotlib.axes._subplots.AxesSubplot at 0x7faee8a2e860>"
            ]
          },
          "metadata": {
            "tags": []
          },
          "execution_count": 231
        },
        {
          "output_type": "display_data",
          "data": {
            "image/png": "[encoded data removed]",
            "text/plain": [
              "<Figure size 432x288 with 1 Axes>"
            ]
          },
          "metadata": {
            "tags": []
          }
        }
      ]
    },
    {
      "cell_type": "code",
      "metadata": {
        "id": "Z1dcIb81fQd8",
        "colab_type": "code",
        "outputId": "f595a83e-b223-4b68-a32d-8709b48c6129",
        "colab": {
          "base_uri": "https://localhost:8080/",
          "height": 290
        }
      },
      "source": [
        "#so things look pretty good if I only play 4 turns\n",
        "# what if I play 6 turns?\n",
        "sns.distplot(np.random.binomial(6,0.1666,size=1000000))# If I play 6 turns, I'm more likely to die. Stats save the day once again!"
      ],
      "execution_count": 0,
      "outputs": [
        {
          "output_type": "execute_result",
          "data": {
            "text/plain": [
              "<matplotlib.axes._subplots.AxesSubplot at 0x7faee88645f8>"
            ]
          },
          "metadata": {
            "tags": []
          },
          "execution_count": 233
        },
        {
          "output_type": "display_data",
          "data": {
            "image/png": "[encoded data removed]",
            "text/plain": [
              "<Figure size 432x288 with 1 Axes>"
            ]
          },
          "metadata": {
            "tags": []
          }
        }
      ]
    },
    {
      "cell_type": "markdown",
      "metadata": {
        "id": "vDhSLTMekZO0",
        "colab_type": "text"
      },
      "source": [
        "## Poisson Processes and the Poisson Distribution"
      ]
    },
    {
      "cell_type": "code",
      "metadata": {
        "id": "01_B35tgkpUU",
        "colab_type": "code",
        "outputId": "191e49bc-5d2b-4ec3-b09b-cbf50a20125d",
        "colab": {
          "base_uri": "https://localhost:8080/",
          "height": 287
        }
      },
      "source": [
        "sns.distplot(np.random.poisson(lam=6,size=1000000))#lets say that the average number of hits on a website per hour is 6 (lambda)\n",
        "# what is the most likely number of hits? 5-6"
      ],
      "execution_count": 0,
      "outputs": [
        {
          "output_type": "execute_result",
          "data": {
            "text/plain": [
              "<matplotlib.axes._subplots.AxesSubplot at 0x7faee825c630>"
            ]
          },
          "metadata": {
            "tags": []
          },
          "execution_count": 239
        },
        {
          "output_type": "display_data",
          "data": {
            "image/png": "[encoded data removed]",
            "text/plain": [
              "<Figure size 432x288 with 1 Axes>"
            ]
          },
          "metadata": {
            "tags": []
          }
        }
      ]
    },
    {
      "cell_type": "markdown",
      "metadata": {
        "id": "z4s3bRWUocw4",
        "colab_type": "text"
      },
      "source": [
        "# Probabalistic Logic - Continuous Variables"
      ]
    },
    {
      "cell_type": "code",
      "metadata": {
        "id": "SCJDsosJoi6V",
        "colab_type": "code",
        "outputId": "3ae946b6-7822-4c6e-b10a-48b401445868",
        "colab": {
          "base_uri": "https://localhost:8080/",
          "height": 287
        }
      },
      "source": [
        "#normal distribution\n",
        "sns.distplot(np.random.normal(np.mean(pandas_df.total_votes),np.std(pandas_df.total_votes),size=10000))"
      ],
      "execution_count": 0,
      "outputs": [
        {
          "output_type": "execute_result",
          "data": {
            "text/plain": [
              "<matplotlib.axes._subplots.AxesSubplot at 0x7faee81a5cf8>"
            ]
          },
          "metadata": {
            "tags": []
          },
          "execution_count": 240
        },
        {
          "output_type": "display_data",
          "data": {
            "image/png": "[encoded data removed]",
            "text/plain": [
              "<Figure size 432x288 with 1 Axes>"
            ]
          },
          "metadata": {
            "tags": []
          }
        }
      ]
    },
    {
      "cell_type": "code",
      "metadata": {
        "id": "DhAoJiyqrJFj",
        "colab_type": "code",
        "colab": {}
      },
      "source": [
        ""
      ],
      "execution_count": 0,
      "outputs": []
    }
  ]
}